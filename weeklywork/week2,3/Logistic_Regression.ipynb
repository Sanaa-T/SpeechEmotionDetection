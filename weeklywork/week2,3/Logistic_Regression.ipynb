{
  "cells": [
    {
      "cell_type": "markdown",
      "metadata": {
        "id": "aTAky_OS1w0P"
      },
      "source": [
        "# Logistic Regression\n",
        "\n",
        "Logistic regression is a process of modeling the probability of a discrete outcome given an input variable. The most common logistic regression models a binary outcome; something that can take two values such as true/false, yes/no, and so on.\n",
        "\n",
        "In this week you will be doing logistic regression on breast cancer dataset using sklearn library. Feel free to create any new functions required."
      ]
    },
    {
      "cell_type": "code",
      "execution_count": 20,
      "metadata": {
        "id": "E56ck0_P2NR9"
      },
      "outputs": [],
      "source": [
        "#importinf libraries\n",
        "from sklearn.preprocessing import StandardScaler\n",
        "from sklearn.model_selection import train_test_split\n",
        "from sklearn.metrics import accuracy_score\n",
        "from sklearn import datasets\n",
        "import numpy as np"
      ]
    },
    {
      "cell_type": "markdown",
      "metadata": {
        "id": "qojSAol72cmH"
      },
      "source": [
        "Prepare Data"
      ]
    },
    {
      "cell_type": "code",
      "execution_count": 21,
      "metadata": {
        "id": "_uUSV8Xk2ePh"
      },
      "outputs": [],
      "source": [
        "breast_cancer = datasets.load_breast_cancer()\n",
        "X, y = breast_cancer.data, breast_cancer.target"
      ]
    },
    {
      "cell_type": "code",
      "execution_count": 22,
      "metadata": {
        "id": "N6jcbk5g29XW"
      },
      "outputs": [],
      "source": [
        "#spliting data for training and testing\n",
        "X_train, X_test, y_train, y_test = train_test_split(X, y, test_size=0.2, random_state=1234)\n",
        "sc = StandardScaler()\n",
        "X_train = sc.fit_transform(X_train)\n",
        "X_test = sc.transform(X_test)"
      ]
    },
    {
      "cell_type": "markdown",
      "metadata": {
        "id": "R4ldHUJs3d2V"
      },
      "source": [
        "Binary cross entropy loss"
      ]
    },
    {
      "cell_type": "code",
      "execution_count": 23,
      "metadata": {
        "id": "QkXgo04D3dGW"
      },
      "outputs": [],
      "source": [
        "def BCELoss(y,y_pred):\n",
        "  epsilon = 1e-15  # Small value to avoid log(0)\n",
        "  y_pred = np.clip(y_pred, epsilon, 1 - epsilon)\n",
        "  J = -y*np.log(y_pred) - (1-y)*np.log(1-y_pred)\n",
        "  return np.mean(J)\n",
        "  pass"
      ]
    },
    {
      "cell_type": "markdown",
      "metadata": {
        "id": "OIuuOJcJ3sti"
      },
      "source": [
        "Implement Logistic Regression here :)\n",
        "\n",
        "Print the accuracy and cross entropy loss"
      ]
    },
    {
      "cell_type": "code",
      "execution_count": 24,
      "metadata": {
        "id": "gBJ6H_ss3yUr"
      },
      "outputs": [
        {
          "name": "stdout",
          "output_type": "stream",
          "text": [
            "Accuracy on test set by our model :  93.85964912280701\n",
            "Cross Entropy loss :  2.120844143411895\n"
          ]
        }
      ],
      "source": [
        "def sigmoid(x):\n",
        "  sig = 1/(1+np.exp(-x))\n",
        "  return sig\n",
        "  pass\n",
        "\n",
        "\n",
        "class LogisticRegression:\n",
        "    def __init__(self, lr=0.01, iters=1000): #lr (learning rate) & iters (iterations) could be anything of your choice\n",
        "      self.lr = lr\n",
        "      self.iters = iters\n",
        "      pass\n",
        "\n",
        "    def fit(self, X, y):\n",
        "      self.m, self.n = X.shape\n",
        "      self.W = np.zeros(self.n)\n",
        "      self.b = 0\n",
        "      self.X = X\n",
        "      self.Y = y\n",
        "      for i in range (self.iters):\n",
        "        self.update_weights()\n",
        "      return self\n",
        "      pass\n",
        "\n",
        "    def update_weights(self):\n",
        "      # A = 1/(1 + np.exp(-(self.X.dot(self.W) + self.b)))\n",
        "      A = sigmoid(self.X.dot(self.W) + self.b)\n",
        "\n",
        "      tmp = A - self.Y.T\n",
        "      tmp = np.reshape(tmp, self.m)\n",
        "      dW = np.dot(self.X.T, tmp)/ self.m\n",
        "      db = np.sum(tmp)/ self.m\n",
        "\n",
        "      self.W = self.W - self.lr*dW\n",
        "      self.b = self.b - self.lr*db\n",
        "\n",
        "      return self\n",
        "\n",
        "    def predict(self, X):\n",
        "      # Z = 1 / ( 1 + np.exp( - ( X.dot( self.W ) + self.b ) ) )  \n",
        "      Z = sigmoid(X.dot( self.W ) + self.b)\n",
        "\n",
        "      Y = np.where( Z > 0.5, 1, 0 )         \n",
        "      return Y \n",
        "      pass\n",
        "\n",
        "def main():\n",
        "  breast_cancer = datasets.load_breast_cancer()\n",
        "  X, y = breast_cancer.data, breast_cancer.target\n",
        "  \n",
        "  X_train, X_test, y_train, y_test = train_test_split(X, y, test_size=0.2, random_state=1234)\n",
        "  sc = StandardScaler()\n",
        "  X_train = sc.fit_transform(X_train)\n",
        "  X_test = sc.transform(X_test)\n",
        "\n",
        "  model = LogisticRegression( lr = 0.01, iters = 1000 ) \n",
        "  model.fit( X_train, y_train )\n",
        "\n",
        "  Y_pred = model.predict( X_test )         \n",
        "\n",
        "  correctly_classified = 0    \n",
        "       \n",
        "  count = 0    \n",
        "  for count in range( np.size( Y_pred ) ) :   \n",
        "      \n",
        "      if y_test[count] == Y_pred[count] :             \n",
        "          correctly_classified = correctly_classified + 1            \n",
        "      count = count + 1\n",
        "        \n",
        "  print( \"Accuracy on test set by our model : \", (  \n",
        "    correctly_classified / count ) * 100 ) \n",
        "  \n",
        "  loss = BCELoss(y_test ,Y_pred)\n",
        "  print(\"Cross Entropy loss : \", loss)\n",
        "\n",
        "if __name__ == \"__main__\" :      \n",
        "    main()   \n"
      ]
    }
  ],
  "metadata": {
    "colab": {
      "provenance": []
    },
    "kernelspec": {
      "display_name": "Python 3",
      "name": "python3"
    },
    "language_info": {
      "codemirror_mode": {
        "name": "ipython",
        "version": 3
      },
      "file_extension": ".py",
      "mimetype": "text/x-python",
      "name": "python",
      "nbconvert_exporter": "python",
      "pygments_lexer": "ipython3",
      "version": "3.12.3"
    }
  },
  "nbformat": 4,
  "nbformat_minor": 0
}
